{
  "nbformat": 4,
  "nbformat_minor": 0,
  "metadata": {
    "colab": {
      "name": "classification.ipynb",
      "provenance": [],
      "authorship_tag": "ABX9TyOCZR+MQAH/H3lwlZMhp8wB",
      "include_colab_link": true
    },
    "kernelspec": {
      "name": "python3",
      "display_name": "Python 3"
    },
    "language_info": {
      "name": "python"
    }
  },
  "cells": [
    {
      "cell_type": "markdown",
      "metadata": {
        "id": "view-in-github",
        "colab_type": "text"
      },
      "source": [
        "<a href=\"https://colab.research.google.com/github/MNeilDiane/Augustine/blob/master/classification.ipynb\" target=\"_parent\"><img src=\"https://colab.research.google.com/assets/colab-badge.svg\" alt=\"Open In Colab\"/></a>"
      ]
    },
    {
      "cell_type": "code",
      "metadata": {
        "id": "Ww4-VJoJqE-_",
        "outputId": "f81ea880-e478-4deb-90ec-0687510603a9",
        "colab": {
          "base_uri": "https://localhost:8080/"
        }
      },
      "source": [
        "!gdown --id '1KSFIRh0-_Vr7SdiSCZP1ItV7bXPxMD92' --output data.tar.gz\n",
        "!tar -zxvf data.tar.gz\n",
        "!ls"
      ],
      "execution_count": null,
      "outputs": [
        {
          "output_type": "stream",
          "name": "stdout",
          "text": [
            "Downloading...\n",
            "From: https://drive.google.com/uc?id=1KSFIRh0-_Vr7SdiSCZP1ItV7bXPxMD92\n",
            "To: /content/data.tar.gz\n",
            "100% 6.11M/6.11M [00:00<00:00, 25.7MB/s]\n",
            "data/\n",
            "data/sample_submission.csv\n",
            "data/test_no_label.csv\n",
            "data/train.csv\n",
            "data/X_test\n",
            "data/X_train\n",
            "data/Y_train\n",
            "data  data.tar.gz  sample_data\n"
          ]
        }
      ]
    },
    {
      "cell_type": "code",
      "source": [
        "import numpy as np\n",
        "\n",
        "np.random.seed(0)#相同的seed，每次生成的随机数相同。\n",
        "X_train_fpath = './data/X_train'\n",
        "Y_train_fpath = './data/Y_train'\n",
        "X_test_fpath = './data/X_test'\n",
        "output_fpath = './output_{}.csv'#接受结果 \n",
        "\n",
        "# 把csv文件转换成numpy的数组\n",
        "with open(X_train_fpath) as f:\n",
        "    next(f)#跳过第一行，从第二行数据开始读取\n",
        "    X_train = np.array([line.strip('\\n').split(',')[1:] for line in f], dtype = float)# #截取每行下标为1到最后的列，删除掉每行数据中的换行符，遇到','分割数据\n",
        "with open(Y_train_fpath) as f:\n",
        "    next(f)\n",
        "    Y_train = np.array([line.strip('\\n').split(',')[1] for line in f], dtype = float)\n",
        "with open(X_test_fpath) as f:\n",
        "    next(f)\n",
        "    X_test = np.array([line.strip('\\n').split(',')[1:] for line in f], dtype = float)\n"
      ],
      "metadata": {
        "id": "TX2bciPDIvjM"
      },
      "execution_count": null,
      "outputs": []
    },
    {
      "cell_type": "code",
      "source": [
        "#定义一个标准化函数_normalize()\n",
        "#X：待处理的矩阵，处理后作为返回值\n",
        "#train:bool变量，标记输入是否为test集\n",
        "#specified_column：定义了需要被标准化的列。如果输入为None，则表示所有列都需要被标准化。\n",
        "#X_mean：训练集中每一列的均值\n",
        "#X_std：训练集中每一列的方差\n",
        "def _normalize(X, train = True, specified_column = None, X_mean = None, X_std = None):\n",
        "  if specified_column == None:\n",
        "    specified_column = np.arange(X.shape[1])\n",
        "  if train:\n",
        "    X_mean = np.mean(X[:,specified_column],0).reshape(1,-1)#axis = 0：压缩行，对各列求均值，返回 1×n 矩阵 reshape(1,-1)转换为一行\n",
        "    X_std = np.std(X[:,specified_column],0).reshape(1,-1)\n",
        "  X[:,specified_column] = (X[:,specified_column] - X_mean)/(X_std+1e-8)\n",
        "  return X,X_mean,X_std\n",
        "  # This function normalizes specific columns of X.\n",
        "    # The mean and standard variance of training data will be reused when processing testing data.\n",
        "    #\n",
        "    # Arguments:\n",
        "    #     X: data to be processed\n",
        "    #     train: 'True' when processing training data, 'False' for testing data\n",
        "    #     specific_column: indexes of the columns that will be normalized. If 'None', all columns\n",
        "    #         will be normalized.\n",
        "    #     X_mean: mean value of training data, used when train = 'False'\n",
        "    #     X_std: standard deviation of training data, used when train = 'False'\n",
        "    # Outputs:\n",
        "    #     X: normalized data\n",
        "    #     X_mean: computed mean value of training data\n",
        "    #     X_std: computed standard deviation of training data\n",
        "#标准化训练数据与测试数据\n",
        "X_train, X_mean, X_std = _normalize(X_train, train = True)\n",
        "X_test, _, _= _normalize(X_test, train = False, specified_column = None, X_mean = X_mean, X_std = X_std)\n",
        "\n"
      ],
      "metadata": {
        "id": "ROJV0UVfwZIS"
      },
      "execution_count": null,
      "outputs": []
    },
    {
      "cell_type": "code",
      "source": [
        "#分割训练集与验证集\n",
        "def _train_dev_split(X, Y, dev_ratio = 0.25):\n",
        "  # This function spilts data into training set and development set.\n",
        "  train_size = int(len(X)*(1-dev_ratio))#train size\n",
        "  return X[:train_size],Y[:train_size],X[train_size:],Y[train_size:]#划分出测试集与验证集\n",
        "\n",
        "dev_ratio = 0.1#9：1\n",
        "X_train, Y_train, X_dev, Y_dev = _train_dev_split(X_train, Y_train, dev_ratio = dev_ratio)\n",
        "train_size = X_train.shape[0]\n",
        "dev_size = X_dev.shape[0]\n",
        "test_size = X_test.shape[0]\n",
        "data_dim = X_train.shape[1]\n",
        "print('Size of training set: {}'.format(train_size))\n",
        "print('Size of development set: {}'.format(dev_size))\n",
        "print('Size of testing set: {}'.format(test_size))\n",
        "print('Dimension of data: {}'.format(data_dim))\n"
      ],
      "metadata": {
        "colab": {
          "base_uri": "https://localhost:8080/"
        },
        "id": "tWDSin6J1Mr_",
        "outputId": "4b0e9c1d-7635-4fff-cc43-125f53af6efb"
      },
      "execution_count": null,
      "outputs": [
        {
          "output_type": "stream",
          "name": "stdout",
          "text": [
            "Size of training set: 48830\n",
            "Size of development set: 5426\n",
            "Size of testing set: 27622\n",
            "Dimension of data: 510\n"
          ]
        }
      ]
    },
    {
      "cell_type": "code",
      "source": [
        "#_shuffle(X,Y)：X和Y是两个数组，如果分别随机打乱X和Y，那么X和Y的对应关系就会被破坏。所以，这里生成行的编号，对行的编号进行打乱，就可以获得一一对应的打乱后的X和Y.\n",
        "#_sigmoid(z)：σ ( z ) \\sigma(z)σ(z)函数\n",
        "#_f(X,w,b)：Logistic Regression的函数f w , b ( X ) = σ ( w ⋅ X + b ) 参数是权重w和偏差b\n",
        "#_predict(X,w,b)\n",
        "def _shuffle(X,Y):\n",
        "  # This function shuffles two equal-length list/array, X and Y, together.\n",
        "  randomize = np.arange(len(X))\n",
        "  np.random.shuffle(randomize)\n",
        "  return (X[randomize],Y[randomize])\n",
        "def _sigmoid(z):\n",
        "  # Sigmoid function can be used to calculate probability.\n",
        "  # To avoid overflow, minimum/maximum output value is set.\n",
        "  return np.clip(1 / (1.0 + np.exp(-z)), 1e-8, 1 - (1e-8))#取a数组中的闭区间[a_min, a_max]，数组中小于a_min的数都变成a_min，大于a_max的数都变成a_max\n",
        "\n",
        "def _f(X,w,b):\n",
        "    # This is the logistic regression function, parameterized by w and b\n",
        "    #\n",
        "    # Arguements:\n",
        "    #     X: input data, shape = [batch_size, data_dimension]\n",
        "    #     w: weight vector, shape = [data_dimension, ]\n",
        "    #     b: bias, scalar\n",
        "    # Output:\n",
        "    #     predicted probability of each row of X being positively labeled, shape = [batch_size, ]\n",
        "    return _sigmoid(np.matmul(X, w)+b)#np.matual用于矩阵相乘\n",
        "\n",
        "def _predict(X,w,b):\n",
        "  return np.round(_f(X,w,b)).astype(np.int)#用于取整，四舍五入。除了个位以0结尾的数外，该种数一律向下取整.\n",
        "\n",
        "def _accuracy(Y_pred,Y_label):\n",
        "  acc = 1-np.mean(np.abs(Y_pred-Y_label))\n",
        "  return acc\n"
      ],
      "metadata": {
        "id": "_Xu4sI4H78dv"
      },
      "execution_count": null,
      "outputs": []
    },
    {
      "cell_type": "code",
      "source": [
        "#损失函数\n",
        "def _cross_entropy_loss(y_pred,Y_label):\n",
        "  # This function computes the cross entropy.\n",
        "    #\n",
        "    # Arguements:\n",
        "    #     y_pred: probabilistic predictions, float vector\n",
        "    #     Y_label: ground truth labels, bool vector\n",
        "    # Output:\n",
        "    #     cross entropy, scalar\n",
        "    cross_entropy = -np.dot(Y_label,np.log(y_pred)) - np.dot((1-Y_label),np.log(1 - y_pred))\n",
        "    return cross_entropy\n"
      ],
      "metadata": {
        "id": "1zQUCGKFBIxi"
      },
      "execution_count": null,
      "outputs": []
    },
    {
      "cell_type": "code",
      "source": [
        "#gradient\n",
        "def _gradient(X,Y_label,w,b):\n",
        "  # This function computes the gradient of cross entropy loss with respect to weight w and bias b.\n",
        "  y_pred = _f(X,w,b)\n",
        "  pred_error = Y_label - y_pred\n",
        "  w_grad = -np.sum(pred_error*X.T,1)\n",
        "  b_grad = -np.sum(pred_error)\n",
        "  return w_grad,b_grad"
      ],
      "metadata": {
        "id": "-nIGfDfGCd4h"
      },
      "execution_count": null,
      "outputs": []
    },
    {
      "cell_type": "code",
      "source": [
        "# 初始化权重w和b，令它们都为0\n",
        "w = np.zeros((data_dim,))\t#[0,0,0,...,0]\n",
        "b = np.zeros((1,))\t\t \t#[0]\n",
        "\n",
        "# 训练时的超参数\n",
        "max_iter = 10\n",
        "batch_size = 8\n",
        "learning_rate = 0.2\n",
        "\n",
        "# 保存每个iteration的loss和accuracy，以便后续画图\n",
        "train_loss = []\n",
        "dev_loss = []\n",
        "train_acc = []\n",
        "dev_acc = []\n",
        "\n",
        "# 累计参数更新的次数\n",
        "step = 1\n",
        "\n",
        "# 迭代训练\n",
        "for epoch in range(max_iter):\n",
        "    # 在每个epoch开始时，随机打散训练数据\n",
        "    X_train, Y_train = _shuffle(X_train, Y_train)\n",
        "        \n",
        "    # Mini-batch训练\n",
        "    for idx in range(int(np.floor(train_size / batch_size))):#np.floor()返回不大于输入参数的最大整数\n",
        "        X = X_train[idx*batch_size:(idx+1)*batch_size]\n",
        "        Y = Y_train[idx*batch_size:(idx+1)*batch_size]\n",
        "\n",
        "        # 计算梯度\n",
        "        w_grad, b_grad = _gradient(X, Y, w, b)\n",
        "            \n",
        "        # 梯度下降法更新\n",
        "        # 学习率随时间衰减\n",
        "        w = w - learning_rate/np.sqrt(step) * w_grad\n",
        "        b = b - learning_rate/np.sqrt(step) * b_grad\n",
        "\n",
        "        step = step + 1\n",
        "            \n",
        "    # 计算训练集和验证集的loss和accuracy\n",
        "    y_train_pred = _f(X_train, w, b)\n",
        "    Y_train_pred = np.round(y_train_pred)#四舍五入\n",
        "    train_acc.append(_accuracy(Y_train_pred, Y_train))\n",
        "    train_loss.append(_cross_entropy_loss(y_train_pred, Y_train) / train_size)\n",
        "\n",
        "    y_dev_pred = _f(X_dev, w, b)\n",
        "    Y_dev_pred = np.round(y_dev_pred)\n",
        "    dev_acc.append(_accuracy(Y_dev_pred, Y_dev))\n",
        "    dev_loss.append(_cross_entropy_loss(y_dev_pred, Y_dev) / dev_size)\n",
        "\n",
        "print('Training loss: {}'.format(train_loss[-1]))\n",
        "print('Development loss: {}'.format(dev_loss[-1]))\n",
        "print('Training accuracy: {}'.format(train_acc[-1]))\n",
        "print('Development accuracy: {}'.format(dev_acc[-1]))\n",
        "\n",
        "\n",
        "\n",
        "\n",
        "\n"
      ],
      "metadata": {
        "colab": {
          "base_uri": "https://localhost:8080/"
        },
        "id": "51CcRKJe90e_",
        "outputId": "c612bcd2-57dd-4b36-8774-ac86e285d880"
      },
      "execution_count": null,
      "outputs": [
        {
          "output_type": "stream",
          "name": "stdout",
          "text": [
            "Training loss: 0.27135543524640593\n",
            "Development loss: 0.2896359675026287\n",
            "Training accuracy: 0.8836166291214418\n",
            "Development accuracy: 0.8733873940287504\n"
          ]
        }
      ]
    },
    {
      "cell_type": "code",
      "source": [
        "import matplotlib.pyplot as plt\n",
        "#loss曲线\n",
        "plt.plot(train_loss)\n",
        "plt.plot(dev_loss)\n",
        "plt.title('loss')\n",
        "plt.legend(['train','dev'])\n",
        "plt.savefig('loss.png')\n",
        "plt.show()\n",
        "#accuracy曲线\n",
        "plt.plot(train_acc)\n",
        "plt.plot(dev_acc)\n",
        "plt.title('acc')\n",
        "plt.legend(['train','dev'])\n",
        "plt.savefig('acc.png')\n",
        "plt.show()"
      ],
      "metadata": {
        "colab": {
          "base_uri": "https://localhost:8080/",
          "height": 545
        },
        "id": "WPV47avBLGxE",
        "outputId": "c0a60b06-a995-406b-e9a9-7528714a9ac0"
      },
      "execution_count": null,
      "outputs": [
        {
          "output_type": "display_data",
          "data": {
            "image/png": "[encoded data removed]",
            "text/plain": [
              "<Figure size 432x288 with 1 Axes>"
            ]
          },
          "metadata": {
            "needs_background": "light"
          }
        },
        {
          "output_type": "display_data",
          "data": {
            "image/png": "[encoded data removed]",
            "text/plain": [
              "<Figure size 432x288 with 1 Axes>"
            ]
          },
          "metadata": {
            "needs_background": "light"
          }
        }
      ]
    },
    {
      "cell_type": "code",
      "source": [
        "#test\n",
        "#预测测试集标签\n",
        "predictions = _predict(X_test,w,b)\n",
        "with open(output_fpath.format('logistic'), 'w') as f:\n",
        "    f.write('id,label\\n')\n",
        "    for i, label in  enumerate(predictions):#enumerate(predictions) 可以既遍历出predictions的索引，又遍历出元素\n",
        "        f.write('{},{}\\n'.format(i, label))\n",
        "\n",
        "# 输出最重要的特征和权重\n",
        "# 对w的绝对值从大到小排序，输出对应的ID\n",
        "ind = np.argsort(np.abs(w))[::-1]\n",
        "with open(X_test_fpath) as f:\n",
        "  content = f.readline().strip('\\n').split(',')\n",
        "features = np.array(content)\n",
        "for i in ind[0:10]:\n",
        "  print(features[i],w[i])\n",
        "\n"
      ],
      "metadata": {
        "colab": {
          "base_uri": "https://localhost:8080/"
        },
        "id": "onavXtfjMMqn",
        "outputId": "7b22e592-3eeb-494a-c84f-072246b46179"
      },
      "execution_count": null,
      "outputs": [
        {
          "output_type": "stream",
          "name": "stdout",
          "text": [
            " Not in universe -4.031960278019251\n",
            " Spouse of householder -1.625403958705141\n",
            " Other Rel <18 never married RP of subfamily -1.4195759775765404\n",
            " Child 18+ ever marr Not in a subfamily -1.2958572076664745\n",
            " Unemployed full-time 1.1712558285885912\n",
            " Other Rel <18 ever marr RP of subfamily -1.167791807296237\n",
            " Italy -1.093458143800618\n",
            " Vietnam -1.0630365633146415\n",
            "num persons worked for employer 0.938992277356651\n",
            " 1 0.8226614922117185\n"
          ]
        },
        {
          "output_type": "stream",
          "name": "stderr",
          "text": [
            "/usr/local/lib/python3.7/dist-packages/ipykernel_launcher.py:27: DeprecationWarning: `np.int` is a deprecated alias for the builtin `int`. To silence this warning, use `int` by itself. Doing this will not modify any behavior and is safe. When replacing `np.int`, you may wish to use e.g. `np.int64` or `np.int32` to specify the precision. If you wish to review your current use, check the release note link for additional information.\n",
            "Deprecated in NumPy 1.20; for more details and guidance: https://numpy.org/devdocs/release/1.20.0-notes.html#deprecations\n"
          ]
        }
      ]
    }
  ]
}