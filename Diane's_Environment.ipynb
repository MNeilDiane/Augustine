{
  "nbformat": 4,
  "nbformat_minor": 0,
  "metadata": {
    "colab": {
      "name": "Diane's Environment.ipynb",
      "provenance": [],
      "authorship_tag": "ABX9TyMvO+crJeDJMmWkBaBOQP1K",
      "include_colab_link": true
    },
    "kernelspec": {
      "name": "python3",
      "display_name": "Python 3"
    },
    "language_info": {
      "name": "python"
    },
    "accelerator": "GPU"
  },
  "cells": [
    {
      "cell_type": "markdown",
      "metadata": {
        "id": "view-in-github",
        "colab_type": "text"
      },
      "source": [
        "<a href=\"https://colab.research.google.com/github/MNeilDiane/Augustine/blob/master/Diane's_Environment.ipynb\" target=\"_parent\"><img src=\"https://colab.research.google.com/assets/colab-badge.svg\" alt=\"Open In Colab\"/></a>"
      ]
    },
    {
      "cell_type": "code",
      "execution_count": 2,
      "metadata": {
        "colab": {
          "base_uri": "https://localhost:8080/"
        },
        "id": "UGDC8saJLb_g",
        "outputId": "2bdd9525-27ea-4137-8b79-6dddfa8c5a16"
      },
      "outputs": [
        {
          "output_type": "stream",
          "name": "stdout",
          "text": [
            "Tue Jan 11 12:55:17 2022       \n",
            "+-----------------------------------------------------------------------------+\n",
            "| NVIDIA-SMI 460.32.03    Driver Version: 460.32.03    CUDA Version: 11.2     |\n",
            "|-------------------------------+----------------------+----------------------+\n",
            "| GPU  Name        Persistence-M| Bus-Id        Disp.A | Volatile Uncorr. ECC |\n",
            "| Fan  Temp  Perf  Pwr:Usage/Cap|         Memory-Usage | GPU-Util  Compute M. |\n",
            "|                               |                      |               MIG M. |\n",
            "|===============================+======================+======================|\n",
            "|   0  Tesla K80           Off  | 00000000:00:04.0 Off |                    0 |\n",
            "| N/A   73C    P0    72W / 149W |    145MiB / 11441MiB |      0%      Default |\n",
            "|                               |                      |                  N/A |\n",
            "+-------------------------------+----------------------+----------------------+\n",
            "                                                                               \n",
            "+-----------------------------------------------------------------------------+\n",
            "| Processes:                                                                  |\n",
            "|  GPU   GI   CI        PID   Type   Process name                  GPU Memory |\n",
            "|        ID   ID                                                   Usage      |\n",
            "|=============================================================================|\n",
            "+-----------------------------------------------------------------------------+\n"
          ]
        }
      ],
      "source": [
        "!/opt/bin/nvidia-smi\n"
      ]
    },
    {
      "cell_type": "code",
      "source": [
        "!pip3 install torch==1.10.1+cu113 torchvision==0.11.2+cu113 torchaudio==0.10.1+cu113 -f https://download.pytorch.org/whl/cu113/torch_stable.html\n",
        "!pip3 install torchvision"
      ],
      "metadata": {
        "colab": {
          "base_uri": "https://localhost:8080/"
        },
        "id": "TU0es-NENZGS",
        "outputId": "d8b6b8a8-75de-4983-c6da-b3a044b34a98"
      },
      "execution_count": 3,
      "outputs": [
        {
          "output_type": "stream",
          "name": "stdout",
          "text": [
            "Looking in links: https://download.pytorch.org/whl/cu113/torch_stable.html\n",
            "Collecting torch==1.10.1+cu113\n",
            "  Downloading https://download.pytorch.org/whl/cu113/torch-1.10.1%2Bcu113-cp37-cp37m-linux_x86_64.whl (1821.5 MB)\n",
            "\u001b[K     |██████████████▋                 | 834.1 MB 35.7 MB/s eta 0:00:28tcmalloc: large alloc 1147494400 bytes == 0x560dd318a000 @  0x7f6214a8d615 0x560d98ff94cc 0x560d990d947a 0x560d98ffc2ed 0x560d990ede1d 0x560d9906fe99 0x560d9906a9ee 0x560d98ffdbda 0x560d9906fd00 0x560d9906a9ee 0x560d98ffdbda 0x560d9906c737 0x560d990eec66 0x560d9906bdaf 0x560d990eec66 0x560d9906bdaf 0x560d990eec66 0x560d9906bdaf 0x560d98ffe039 0x560d99041409 0x560d98ffcc52 0x560d9906fc25 0x560d9906a9ee 0x560d98ffdbda 0x560d9906c737 0x560d9906a9ee 0x560d98ffdbda 0x560d9906b915 0x560d98ffdafa 0x560d9906bc0d 0x560d9906a9ee\n",
            "\u001b[K     |██████████████████▌             | 1055.7 MB 1.4 MB/s eta 0:09:00tcmalloc: large alloc 1434370048 bytes == 0x560e177e0000 @  0x7f6214a8d615 0x560d98ff94cc 0x560d990d947a 0x560d98ffc2ed 0x560d990ede1d 0x560d9906fe99 0x560d9906a9ee 0x560d98ffdbda 0x560d9906fd00 0x560d9906a9ee 0x560d98ffdbda 0x560d9906c737 0x560d990eec66 0x560d9906bdaf 0x560d990eec66 0x560d9906bdaf 0x560d990eec66 0x560d9906bdaf 0x560d98ffe039 0x560d99041409 0x560d98ffcc52 0x560d9906fc25 0x560d9906a9ee 0x560d98ffdbda 0x560d9906c737 0x560d9906a9ee 0x560d98ffdbda 0x560d9906b915 0x560d98ffdafa 0x560d9906bc0d 0x560d9906a9ee\n",
            "\u001b[K     |███████████████████████▌        | 1336.2 MB 1.6 MB/s eta 0:05:12tcmalloc: large alloc 1792966656 bytes == 0x560d9c612000 @  0x7f6214a8d615 0x560d98ff94cc 0x560d990d947a 0x560d98ffc2ed 0x560d990ede1d 0x560d9906fe99 0x560d9906a9ee 0x560d98ffdbda 0x560d9906fd00 0x560d9906a9ee 0x560d98ffdbda 0x560d9906c737 0x560d990eec66 0x560d9906bdaf 0x560d990eec66 0x560d9906bdaf 0x560d990eec66 0x560d9906bdaf 0x560d98ffe039 0x560d99041409 0x560d98ffcc52 0x560d9906fc25 0x560d9906a9ee 0x560d98ffdbda 0x560d9906c737 0x560d9906a9ee 0x560d98ffdbda 0x560d9906b915 0x560d98ffdafa 0x560d9906bc0d 0x560d9906a9ee\n",
            "\u001b[K     |█████████████████████████████▊  | 1691.1 MB 1.3 MB/s eta 0:01:42tcmalloc: large alloc 2241208320 bytes == 0x560e073fa000 @  0x7f6214a8d615 0x560d98ff94cc 0x560d990d947a 0x560d98ffc2ed 0x560d990ede1d 0x560d9906fe99 0x560d9906a9ee 0x560d98ffdbda 0x560d9906fd00 0x560d9906a9ee 0x560d98ffdbda 0x560d9906c737 0x560d990eec66 0x560d9906bdaf 0x560d990eec66 0x560d9906bdaf 0x560d990eec66 0x560d9906bdaf 0x560d98ffe039 0x560d99041409 0x560d98ffcc52 0x560d9906fc25 0x560d9906a9ee 0x560d98ffdbda 0x560d9906c737 0x560d9906a9ee 0x560d98ffdbda 0x560d9906b915 0x560d98ffdafa 0x560d9906bc0d 0x560d9906a9ee\n",
            "\u001b[K     |████████████████████████████████| 1821.5 MB 1.2 MB/s eta 0:00:01tcmalloc: large alloc 1821458432 bytes == 0x560e8cd5c000 @  0x7f6214a8c1e7 0x560d9902f067 0x560d98ff94cc 0x560d990d947a 0x560d98ffc2ed 0x560d990ede1d 0x560d9906fe99 0x560d9906a9ee 0x560d98ffdbda 0x560d9906bc0d 0x560d9906a9ee 0x560d98ffdbda 0x560d9906bc0d 0x560d9906a9ee 0x560d98ffdbda 0x560d9906bc0d 0x560d9906a9ee 0x560d98ffdbda 0x560d9906bc0d 0x560d9906a9ee 0x560d98ffdbda 0x560d9906bc0d 0x560d98ffdafa 0x560d9906bc0d 0x560d9906a9ee 0x560d98ffdbda 0x560d9906c737 0x560d9906a9ee 0x560d98ffdbda 0x560d9906c737 0x560d9906a9ee\n",
            "tcmalloc: large alloc 2276827136 bytes == 0x560ef9670000 @  0x7f6214a8d615 0x560d98ff94cc 0x560d990d947a 0x560d98ffc2ed 0x560d990ede1d 0x560d9906fe99 0x560d9906a9ee 0x560d98ffdbda 0x560d9906bc0d 0x560d9906a9ee 0x560d98ffdbda 0x560d9906bc0d 0x560d9906a9ee 0x560d98ffdbda 0x560d9906bc0d 0x560d9906a9ee 0x560d98ffdbda 0x560d9906bc0d 0x560d9906a9ee 0x560d98ffdbda 0x560d9906bc0d 0x560d98ffdafa 0x560d9906bc0d 0x560d9906a9ee 0x560d98ffdbda 0x560d9906c737 0x560d9906a9ee 0x560d98ffdbda 0x560d9906c737 0x560d9906a9ee 0x560d98ffe271\n",
            "\u001b[K     |████████████████████████████████| 1821.5 MB 3.4 kB/s \n",
            "\u001b[?25hCollecting torchvision==0.11.2+cu113\n",
            "  Downloading https://download.pytorch.org/whl/cu113/torchvision-0.11.2%2Bcu113-cp37-cp37m-linux_x86_64.whl (24.6 MB)\n",
            "\u001b[K     |████████████████████████████████| 24.6 MB 1.6 MB/s \n",
            "\u001b[?25hCollecting torchaudio==0.10.1+cu113\n",
            "  Downloading https://download.pytorch.org/whl/cu113/torchaudio-0.10.1%2Bcu113-cp37-cp37m-linux_x86_64.whl (2.9 MB)\n",
            "\u001b[K     |████████████████████████████████| 2.9 MB 45.4 MB/s \n",
            "\u001b[?25hRequirement already satisfied: typing-extensions in /usr/local/lib/python3.7/dist-packages (from torch==1.10.1+cu113) (3.10.0.2)\n",
            "Requirement already satisfied: numpy in /usr/local/lib/python3.7/dist-packages (from torchvision==0.11.2+cu113) (1.19.5)\n",
            "Requirement already satisfied: pillow!=8.3.0,>=5.3.0 in /usr/local/lib/python3.7/dist-packages (from torchvision==0.11.2+cu113) (7.1.2)\n",
            "Installing collected packages: torch, torchvision, torchaudio\n",
            "  Attempting uninstall: torch\n",
            "    Found existing installation: torch 1.10.0+cu111\n",
            "    Uninstalling torch-1.10.0+cu111:\n",
            "      Successfully uninstalled torch-1.10.0+cu111\n",
            "  Attempting uninstall: torchvision\n",
            "    Found existing installation: torchvision 0.11.1+cu111\n",
            "    Uninstalling torchvision-0.11.1+cu111:\n",
            "      Successfully uninstalled torchvision-0.11.1+cu111\n",
            "  Attempting uninstall: torchaudio\n",
            "    Found existing installation: torchaudio 0.10.0+cu111\n",
            "    Uninstalling torchaudio-0.10.0+cu111:\n",
            "      Successfully uninstalled torchaudio-0.10.0+cu111\n",
            "\u001b[31mERROR: pip's dependency resolver does not currently take into account all the packages that are installed. This behaviour is the source of the following dependency conflicts.\n",
            "torchtext 0.11.0 requires torch==1.10.0, but you have torch 1.10.1+cu113 which is incompatible.\u001b[0m\n",
            "Successfully installed torch-1.10.1+cu113 torchaudio-0.10.1+cu113 torchvision-0.11.2+cu113\n",
            "Requirement already satisfied: torchvision in /usr/local/lib/python3.7/dist-packages (0.11.2+cu113)\n",
            "Requirement already satisfied: numpy in /usr/local/lib/python3.7/dist-packages (from torchvision) (1.19.5)\n",
            "Requirement already satisfied: torch==1.10.1 in /usr/local/lib/python3.7/dist-packages (from torchvision) (1.10.1+cu113)\n",
            "Requirement already satisfied: pillow!=8.3.0,>=5.3.0 in /usr/local/lib/python3.7/dist-packages (from torchvision) (7.1.2)\n",
            "Requirement already satisfied: typing-extensions in /usr/local/lib/python3.7/dist-packages (from torch==1.10.1->torchvision) (3.10.0.2)\n"
          ]
        }
      ]
    },
    {
      "cell_type": "code",
      "source": [
        "\n"
      ],
      "metadata": {
        "colab": {
          "base_uri": "https://localhost:8080/",
          "height": 134
        },
        "id": "AtAgrtm2QR-4",
        "outputId": "8a86e50c-17d2-4b4c-fec8-a855e5696417"
      },
      "execution_count": 5,
      "outputs": [
        {
          "output_type": "error",
          "ename": "SyntaxError",
          "evalue": "ignored",
          "traceback": [
            "\u001b[0;36m  File \u001b[0;32m\"<ipython-input-5-3b63a90d99af>\"\u001b[0;36m, line \u001b[0;32m1\u001b[0m\n\u001b[0;31m    ！wget https://developer.download.nvidia.com/compute/cuda/repos/ubuntu1804/x86_64/cuda-ubuntu1804.pin\u001b[0m\n\u001b[0m        ^\u001b[0m\n\u001b[0;31mSyntaxError\u001b[0m\u001b[0;31m:\u001b[0m invalid character in identifier\n"
          ]
        }
      ]
    }
  ]
}