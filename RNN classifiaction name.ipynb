{
 "cells": [
  {
   "cell_type": "code",
   "execution_count": 1,
   "id": "044fba1c",
   "metadata": {},
   "outputs": [
    {
     "name": "stdout",
     "output_type": "stream",
     "text": [
      "['data/names\\\\Arabic.txt', 'data/names\\\\Chinese.txt', 'data/names\\\\Czech.txt', 'data/names\\\\Dutch.txt', 'data/names\\\\English.txt', 'data/names\\\\French.txt', 'data/names\\\\German.txt', 'data/names\\\\Greek.txt', 'data/names\\\\Irish.txt', 'data/names\\\\Italian.txt', 'data/names\\\\Japanese.txt', 'data/names\\\\Korean.txt', 'data/names\\\\Polish.txt', 'data/names\\\\Portuguese.txt', 'data/names\\\\Russian.txt', 'data/names\\\\Scottish.txt', 'data/names\\\\Spanish.txt', 'data/names\\\\Vietnamese.txt']\n"
     ]
    }
   ],
   "source": [
    "from __future__ import unicode_literals,print_function,division#division执行精确除法\n",
    "from io import open\n",
    "import glob\n",
    "import os#导入标准库os\n",
    "import unicodedata\n",
    "import string\n",
    "def findFiles(path) : return glob.glob(path)# glob.glob()返回的是列表 list类型。是所有路径下的符合条件的文件名的列表\n",
    "print(findFiles('data/names/*.txt'))"
   ]
  },
  {
   "cell_type": "code",
   "execution_count": 2,
   "id": "e52ddbe1",
   "metadata": {},
   "outputs": [
    {
     "name": "stdout",
     "output_type": "stream",
     "text": [
      "Slusarski\n"
     ]
    }
   ],
   "source": [
    "all_letters = string.ascii_letters+\".,;\"\n",
    "n_letters = len(all_letters)#所有字母的数量\n",
    "def unicodeToAscii(s):\n",
    "    return ''.join(\n",
    "    c for c in unicodedata.normalize('NFD',s)\n",
    "    if unicodedata.category(c)!='Mn'# Mn表示有附加符\n",
    "    and c in all_letters)\n",
    "print(unicodeToAscii('Ślusàrski'))"
   ]
  },
  {
   "cell_type": "code",
   "execution_count": 3,
   "id": "ef91fc0d",
   "metadata": {
    "scrolled": true
   },
   "outputs": [
    {
     "name": "stdout",
     "output_type": "stream",
     "text": [
      "['Arabic', 'Chinese', 'Czech', 'Dutch', 'English', 'French', 'German', 'Greek', 'Irish', 'Italian', 'Japanese', 'Korean', 'Polish', 'Portuguese', 'Russian', 'Scottish', 'Spanish', 'Vietnamese']\n",
      "['Abe', 'Abukara', 'Adachi', 'Aida', 'Aihara', 'Aizawa', 'Ajibana', 'Akaike', 'Akamatsu', 'Akatsuka', 'Akechi', 'Akera', 'Akimoto', 'Akita', 'Akiyama', 'Akutagawa', 'Amagawa', 'Amaya', 'Amori', 'Anami', 'Ando', 'Anzai', 'Aoki', 'Arai', 'Arakawa', 'Araki', 'Arakida', 'Arato', 'Arihyoshi', 'Arishima', 'Arita', 'Ariwa', 'Ariwara', 'Asahara', 'Asahi', 'Asai', 'Asano', 'Asanuma', 'Asari', 'Ashia', 'Ashida', 'Ashikaga', 'Asuhara', 'Atshushi', 'Ayabito', 'Ayugai', 'Baba', 'Baisotei', 'Bando', 'Bunya', 'Chiba', 'Chikamatsu', 'Chikanatsu', 'Chino', 'Chishu', 'Choshi', 'Daishi', 'Dan', 'Date', 'Dazai', 'Deguchi', 'Deushi', 'Doi', 'Ebina', 'Ebisawa', 'Eda', 'Egami', 'Eguchi', 'Ekiguchi', 'Endo', 'Endoso', 'Enoki', 'Enomoto', 'Erizawa', 'Eto', 'Etsuko', 'Ezakiya', 'Fuchida', 'Fugunaga', 'Fujikage', 'Fujimaki', 'Fujimoto', 'Fujioka', 'Fujishima', 'Fujita', 'Fujiwara', 'Fukao', 'Fukayama', 'Fukuda', 'Fukumitsu', 'Fukunaka', 'Fukuoka', 'Fukusaku', 'Fukushima', 'Fukuyama', 'Fukuzawa', 'Fumihiko', 'Funabashi', 'Funaki', 'Funakoshi', 'Furusawa', 'Fuschida', 'Fuse', 'Futabatei', 'Fuwa', 'Gakusha', 'Genda', 'Genji', 'Gensai', 'Godo', 'Goto', 'Gushiken', 'Hachirobei', 'Haga', 'Hagino', 'Hagiwara', 'Hama', 'Hamacho', 'Hamada', 'Hamaguchi', 'Hamamoto', 'Hanabusa', 'Hanari', 'Handa', 'Hara', 'Harada', 'Haruguchi', 'Hasegawa', 'Hasekura', 'Hashimoto', 'Hasimoto', 'Hatakeda', 'Hatakeyama', 'Hatayama', 'Hatoyama', 'Hattori', 'Hayakawa', 'Hayami', 'Hayashi', 'Hayashida', 'Hayata', 'Hayuata', 'Hida', 'Hideaki', 'Hideki', 'Hideyoshi', 'Higashikuni', 'Higashiyama', 'Higo', 'Higoshi', 'Higuchi', 'Hike', 'Hino', 'Hira', 'Hiraga', 'Hiraki', 'Hirano', 'Hiranuma', 'Hiraoka', 'Hirase', 'Hirasi', 'Hirata', 'Hiratasuka', 'Hirayama', 'Hiro', 'Hirose', 'Hirota', 'Hiroyuki', 'Hisamatsu', 'Hishida', 'Hishikawa', 'Hitomi', 'Hiyama', 'Hohki', 'Hojo', 'Hokusai', 'Honami', 'Honda', 'Hori', 'Horigome', 'Horigoshi', 'Horiuchi', 'Horri', 'Hoshino', 'Hosokawa', 'Hosokaya', 'Hotate', 'Hotta', 'Hyata', 'Hyobanshi', 'Ibi', 'Ibu', 'Ibuka', 'Ichigawa', 'Ichihara', 'Ichikawa', 'Ichimonji', 'Ichiro', 'Ichisada', 'Ichiyusai', 'Idane', 'Iemochi', 'Ienari', 'Iesada', 'Ieyasu', 'Ieyoshi', 'Igarashi', 'Ihara', 'Ii', 'Iida', 'Iijima', 'Iitaka', 'Ijichi', 'Ijiri', 'Ikeda', 'Ikina', 'Ikoma', 'Imada', 'Imagawa', 'Imai', 'Imaizumi', 'Imamura', 'Imoo', 'Ina', 'Inaba', 'Inao', 'Inihara', 'Ino', 'Inoguchi', 'Inokuma', 'Inoue', 'Inouye', 'Inukai', 'Ippitsusai', 'Irie', 'Iriye', 'Isayama', 'Ise', 'Iseki', 'Iseya', 'Ishibashi', 'Ishida', 'Ishiguro', 'Ishihara', 'Ishikawa', 'Ishimaru', 'Ishimura', 'Ishinomori', 'Ishiyama', 'Isobe', 'Isoda', 'Isozaki', 'Itagaki', 'Itami', 'Ito', 'Itoh', 'Iwahara', 'Iwahashi', 'Iwakura', 'Iwasa', 'Iwasaki', 'Izumi', 'Jimbo', 'Jippensha', 'Jo', 'Joshuya', 'Joshuyo', 'Jukodo', 'Jumonji', 'Kada', 'Kagabu', 'Kagawa', 'Kahae', 'Kahaya', 'Kaibara', 'Kaima', 'Kajahara', 'Kajitani', 'Kajiwara', 'Kajiyama', 'Kakinomoto', 'Kakutama', 'Kamachi', 'Kamata', 'Kaminaga', 'Kamio', 'Kamioka', 'Kamisaka', 'Kamo', 'Kamon', 'Kan', 'Kanada', 'Kanagaki', 'Kanegawa', 'Kaneko', 'Kanesaka', 'Kano', 'Karamorita', 'Karube', 'Karubo', 'Kasahara', 'Kasai', 'Kasamatsu', 'Kasaya', 'Kase', 'Kashiwagi', 'Kasuse', 'Kataoka', 'Katayama', 'Katayanagi', 'Kate', 'Kato', 'Katoaka', 'Katsu', 'Katsukawa', 'Katsumata', 'Katsura', 'Katsushika', 'Kawabata', 'Kawachi', 'Kawagichi', 'Kawagishi', 'Kawaguchi', 'Kawai', 'Kawaii', 'Kawakami', 'Kawamata', 'Kawamura', 'Kawasaki', 'Kawasawa', 'Kawashima', 'Kawasie', 'Kawatake', 'Kawate', 'Kawayama', 'Kawazu', 'Kaza', 'Kazuyoshi', 'Kenkyusha', 'Kenmotsu', 'Kentaro', 'Ki', 'Kido', 'Kihara', 'Kijimuta', 'Kijmuta', 'Kikkawa', 'Kikuchi', 'Kikugawa', 'Kikui', 'Kikutake', 'Kimio', 'Kimiyama', 'Kimura', 'Kinashita', 'Kinoshita', 'Kinugasa', 'Kira', 'Kishi', 'Kiski', 'Kita', 'Kitabatake', 'Kitagawa', 'Kitamura', 'Kitano', 'Kitao', 'Kitoaji', 'Ko', 'Kobayashi', 'Kobi', 'Kodama', 'Koga', 'Kogara', 'Kogo', 'Koguchi', 'Koiso', 'Koizumi', 'Kojima', 'Kokan', 'Komagata', 'Komatsu', 'Komatsuzaki', 'Komine', 'Komiya', 'Komon', 'Komura', 'Kon', 'Konae', 'Konda', 'Kondo', 'Konishi', 'Kono', 'Konoe', 'Koruba', 'Koshin', 'Kotara', 'Kotoku', 'Koyama', 'Koyanagi', 'Kozu', 'Kubo', 'Kubota', 'Kudara', 'Kudo', 'Kuga', 'Kumagae', 'Kumasaka', 'Kunda', 'Kunikida', 'Kunisada', 'Kuno', 'Kunomasu', 'Kuramochi', 'Kuramoto', 'Kurata', 'Kurkawa', 'Kurmochi', 'Kuroda', 'Kurofuji', 'Kurogane', 'Kurohiko', 'Kuroki', 'Kurosawa', 'Kurusu', 'Kusatsu', 'Kusonoki', 'Kusuhara', 'Kusunoki', 'Kuwabara', 'Kwakami', 'Kyubei', 'Maeda', 'Maehata', 'Maeno', 'Maita', 'Makiguchi', 'Makino', 'Makioka', 'Makuda', 'Marubeni', 'Marugo', 'Marusa', 'Maruya', 'Maruyama', 'Masanobu', 'Masaoka', 'Mashita', 'Masoni', 'Masudu', 'Masuko', 'Masuno', 'Masuzoe', 'Matano', 'Matokai', 'Matoke', 'Matsuda', 'Matsukata', 'Matsuki', 'Matsumara', 'Matsumoto', 'Matsumura', 'Matsuo', 'Matsuoka', 'Matsura', 'Matsushina', 'Matsushita', 'Matsuya', 'Matsuzawa', 'Mayuzumi', 'Mazaki', 'Mazawa', 'Mazuka', 'Mifune', 'Mihashi', 'Miki', 'Mimasuya', 'Minabuchi', 'Minami', 'Minamoto', 'Minatoya', 'Minobe', 'Mishima', 'Mitsubishi', 'Mitsuharu', 'Mitsui', 'Mitsukuri', 'Mitsuwa', 'Mitsuya', 'Mitzusaka', 'Miura', 'Miwa', 'Miyagi', 'Miyahara', 'Miyajima', 'Miyake', 'Miyamae', 'Miyamoto', 'Miyazaki', 'Miyazawa', 'Miyoshi', 'Mizoguchi', 'Mizumaki', 'Mizuno', 'Mizutani', 'Modegi', 'Momotami', 'Momotani', 'Monomonoi', 'Mori', 'Moriguchi', 'Morimoto', 'Morinaga', 'Morioka', 'Morishita', 'Morisue', 'Morita', 'Morri', 'Moto', 'Motoori', 'Motoyoshi', 'Munakata', 'Munkata', 'Muraguchi', 'Murakami', 'Muraoka', 'Murasaki', 'Murase', 'Murata', 'Murkami', 'Muro', 'Muruyama', 'Mushanaokoji', 'Mushashibo', 'Muso', 'Mutsu', 'Nagahama', 'Nagai', 'Nagano', 'Nagasawa', 'Nagase', 'Nagata', 'Nagatsuka', 'Nagumo', 'Naito', 'Nakada', 'Nakadai', 'Nakadan', 'Nakae', 'Nakagawa', 'Nakahara', 'Nakajima', 'Nakamoto', 'Nakamura', 'Nakane', 'Nakanishi', 'Nakano', 'Nakanoi', 'Nakao', 'Nakasato', 'Nakasawa', 'Nakasone', 'Nakata', 'Nakatoni', 'Nakayama', 'Nakazawa', 'Namiki', 'Nanami', 'Narahashi', 'Narato', 'Narita', 'Nataga', 'Natsume', 'Nawabe', 'Nemoto', 'Niijima', 'Nijo', 'Ninomiya', 'Nishi', 'Nishihara', 'Nishikawa', 'Nishimoto', 'Nishimura', 'Nishimuraya', 'Nishio', 'Nishiwaki', 'Nitta', 'Nobunaga', 'Noda', 'Nogi', 'Noguchi', 'Nogushi', 'Nomura', 'Nonomura', 'Noro', 'Nosaka', 'Nose', 'Nozaki', 'Nozara', 'Numajiri', 'Numata', 'Obata', 'Obinata', 'Obuchi', 'Ochiai', 'Ochida', 'Odaka', 'Ogata', 'Ogiwara', 'Ogura', 'Ogyu', 'Ohba', 'Ohira', 'Ohishi', 'Ohka', 'Ohmae', 'Ohmiya', 'Oichi', 'Oinuma', 'Oishi', 'Okabe', 'Okada', 'Okakura', 'Okamoto', 'Okamura', 'Okanao', 'Okanaya', 'Okano', 'Okasawa', 'Okawa', 'Okazaki', 'Okazawaya', 'Okimasa', 'Okimoto', 'Okita', 'Okubo', 'Okuda', 'Okui', 'Okuma', 'Okuma', 'Okumura', 'Okura', 'Omori', 'Omura', 'Onishi', 'Ono', 'Onoda', 'Onoe', 'Onohara', 'Ooka', 'Osagawa', 'Osaragi', 'Oshima', 'Oshin', 'Ota', 'Otaka', 'Otake', 'Otani', 'Otomo', 'Otsu', 'Otsuka', 'Ouchi', 'Oyama', 'Ozaki', 'Ozawa', 'Ozu', 'Raikatuji', 'Royama', 'Ryusaki', 'Sada', 'Saeki', 'Saga', 'Saigo', 'Saiki', 'Saionji', 'Saito', 'Saitoh', 'Saji', 'Sakagami', 'Sakai', 'Sakakibara', 'Sakamoto', 'Sakanoue', 'Sakata', 'Sakiyurai', 'Sakoda', 'Sakubara', 'Sakuraba', 'Sakurai', 'Sammiya', 'Sanda', 'Sanjo', 'Sano', 'Santo', 'Saromi', 'Sarumara', 'Sasada', 'Sasakawa', 'Sasaki', 'Sassa', 'Satake', 'Sato', 'Satoh', 'Satoya', 'Sawamatsu', 'Sawamura', 'Sayuki', 'Segawa', 'Sekigawa', 'Sekine', 'Sekozawa', 'Sen', 'Senmatsu', 'Seo', 'Serizawa', 'Shiba', 'Shibaguchi', 'Shibanuma', 'Shibasaki', 'Shibasawa', 'Shibata', 'Shibukji', 'Shichirobei', 'Shidehara', 'Shiga', 'Shiganori', 'Shige', 'Shigeki', 'Shigemitsu', 'Shigi', 'Shikitei', 'Shikuk', 'Shima', 'Shimada', 'Shimakage', 'Shimamura', 'Shimanouchi', 'Shimaoka', 'Shimazaki', 'Shimazu', 'Shimedzu', 'Shimizu', 'Shimohira', 'Shimon', 'Shimura', 'Shimuzu', 'Shinko', 'Shinozaki', 'Shinozuka', 'Shintaro', 'Shiokawa', 'Shiomi', 'Shiomiya', 'Shionoya', 'Shiotani', 'Shioya', 'Shirahata', 'Shirai', 'Shiraishi', 'Shirane', 'Shirasu', 'Shiratori', 'Shirokawa', 'Shiroyama', 'Shiskikura', 'Shizuma', 'Shobo', 'Shoda', 'Shunji', 'Shunsen', 'Siagyo', 'Soga', 'Sohda', 'Soho', 'Soma', 'Someya', 'Sone', 'Sonoda', 'Soseki', 'Sotomura', 'Suenami', 'Sugai', 'Sugase', 'Sugawara', 'Sugihara', 'Sugimura', 'Sugisata', 'Sugita', 'Sugitani', 'Sugiyama', 'Sumitimo', 'Sunada', 'Suzambo', 'Suzuki', 'Tabuchi', 'Tadeshi', 'Tagawa', 'Taguchi', 'Taira', 'Taka', 'Takabe', 'Takagaki', 'Takagawa', 'Takagi', 'Takahama', 'Takahashi', 'Takaki', 'Takamura', 'Takano', 'Takaoka', 'Takara', 'Takarabe', 'Takashi', 'Takashita', 'Takasu', 'Takasugi', 'Takayama', 'Takecare', 'Takeda', 'Takei', 'Takekawa', 'Takemago', 'Takemitsu', 'Takemura', 'Takenouchi', 'Takeshita', 'Taketomo', 'Takeuchi', 'Takewaki', 'Takimoto', 'Takishida', 'Takishita', 'Takizawa', 'Taku', 'Takudo', 'Takudome', 'Tamazaki', 'Tamura', 'Tamuro', 'Tanaka', 'Tange', 'Tani', 'Taniguchi', 'Tanizaki', 'Tankoshitsu', 'Tansho', 'Tanuma', 'Tarumi', 'Tatenaka', 'Tatsuko', 'Tatsuno', 'Tatsuya', 'Tawaraya', 'Tayama', 'Temko', 'Tenshin', 'Terada', 'Terajima', 'Terakado', 'Terauchi', 'Teshigahara', 'Teshima', 'Tochikura', 'Togo', 'Tojo', 'Tokaji', 'Tokuda', 'Tokudome', 'Tokuoka', 'Tomika', 'Tomimoto', 'Tomioka', 'Tommii', 'Tomonaga', 'Tomori', 'Tono', 'Torii', 'Torisei', 'Toru', 'Toshishai', 'Toshitala', 'Toshusai', 'Toyama', 'Toyoda', 'Toyoshima', 'Toyota', 'Toyotomi', 'Tsubouchi', 'Tsucgimoto', 'Tsuchie', 'Tsuda', 'Tsuji', 'Tsujimoto', 'Tsujimura', 'Tsukada', 'Tsukade', 'Tsukahara', 'Tsukamoto', 'Tsukatani', 'Tsukawaki', 'Tsukehara', 'Tsukioka', 'Tsumemasa', 'Tsumura', 'Tsunoda', 'Tsurimi', 'Tsuruga', 'Tsuruya', 'Tsushima', 'Tsutaya', 'Tsutomu', 'Uboshita', 'Uchida', 'Uchiyama', 'Ueda', 'Uehara', 'Uemura', 'Ueshima', 'Uesugi', 'Uetake', 'Ugaki', 'Ui', 'Ukiyo', 'Umari', 'Umehara', 'Umeki', 'Uno', 'Uoya', 'Urogataya', 'Usami', 'Ushiba', 'Utagawa', 'Wakai', 'Wakatsuki', 'Watabe', 'Watanabe', 'Watari', 'Watnabe', 'Watoga', 'Yakuta', 'Yamabe', 'Yamada', 'Yamagata', 'Yamaguchi', 'Yamaguchiya', 'Yamaha', 'Yamahata', 'Yamakage', 'Yamakawa', 'Yamakazi', 'Yamamoto', 'Yamamura', 'Yamana', 'Yamanaka', 'Yamanouchi', 'Yamanoue', 'Yamaoka', 'Yamashita', 'Yamato', 'Yamawaki', 'Yamazaki', 'Yamhata', 'Yamura', 'Yanagawa', 'Yanagi', 'Yanagimoto', 'Yanagita', 'Yano', 'Yasuda', 'Yasuhiro', 'Yasui', 'Yasujiro', 'Yasukawa', 'Yasutake', 'Yoemon', 'Yokokawa', 'Yokoyama', 'Yonai', 'Yosano', 'Yoshida', 'Yoshifumi', 'Yoshihara', 'Yoshikawa', 'Yoshimatsu', 'Yoshinobu', 'Yoshioka', 'Yoshitomi', 'Yoshizaki', 'Yoshizawa', 'Yuasa', 'Yuhara', 'Yunokawa']\n"
     ]
    }
   ],
   "source": [
    "category_lines = {}#词典，存储language：lines\n",
    "all_categories = []#\n",
    "def readLines(filename):#readlines 从文件里读出每一行\n",
    "    lines = open(filename,encoding = 'utf-8').read().strip().split('\\n')#read（）读取文件，strip（）去除字符串首尾空格或换行符，split（'\\n）'返回分割后的字符串列表\n",
    "    return [unicodeToAscii(line) for line in lines]#列表中每一列都转换为标准英文字母\n",
    "\n",
    "for filename in findFiles('data/names/*.txt'):\n",
    "    category = os.path.splitext(os.path.basename(filename))[0]#splitext返回一个表示指定路径名的根和扩展部分的元组,[0] 代表根部分 os.path.basename返回path最后的文件名这里是把具体的文件名与后缀分割开了\n",
    "    all_categories.append(category)#将每一个语种都加入分类的列表中\n",
    "    lines = readLines(filename)#每一个语种的每一列都读出来\n",
    "    category_lines[category] = lines#将语种这个类别与他的列存入词典的键值对中\n",
    "\n",
    "n_categories = len(all_categories)\n",
    "print(all_categories)\n",
    "print(category_lines['Japanese'])\n",
    "    \n",
    "    "
   ]
  },
  {
   "cell_type": "code",
   "execution_count": 4,
   "id": "febb68fa",
   "metadata": {
    "scrolled": true
   },
   "outputs": [
    {
     "name": "stdout",
     "output_type": "stream",
     "text": [
      "tensor([[0., 0., 0., 0., 0., 0., 0., 0., 0., 0., 0., 0., 0., 0., 0., 0., 0., 0.,\n",
      "         0., 0., 0., 0., 0., 0., 0., 0., 0., 0., 0., 0., 0., 0., 0., 0., 0., 1.,\n",
      "         0., 0., 0., 0., 0., 0., 0., 0., 0., 0., 0., 0., 0., 0., 0., 0., 0., 0.,\n",
      "         0.]], device='cuda:0')\n",
      "torch.Size([9, 1, 55])\n"
     ]
    }
   ],
   "source": [
    "#进行one-hot编码\n",
    "#令字母表中的字母数量为n_letters，一个字母的向量是1xn_letters维，一个长度为line_length的单词,向量维度为line_lengthxn_letters\n",
    "import torch\n",
    "device = torch.device('cuda:0')\n",
    "#返回字母letter的索引index\n",
    "def letterToIndex(letter):\n",
    "    return all_letters.find(letter)\n",
    "#把一个字母编码为tensor\n",
    "def letterToTensor(letter):\n",
    "    tensor = torch.zeros(1,n_letters)#1行 n_letter列\n",
    "    tensor[0][letterToIndex(letter)] = 1\n",
    "    return tensor.to(device)#tensor信息传给GPU，方便运行\n",
    "#把一个单词编码成tensor\n",
    "def lineToTensor(line):\n",
    "    tensor = torch.zeros(len(line),1,n_letters)\n",
    "    #遍历单词中的所有字母，对每个字母letter他的索引设定为1，其他都是0\n",
    "    for li,letter in enumerate(line):\n",
    "        tensor[li][0][letterToIndex(letter)] = 1\n",
    "    return tensor.to(device)    \n",
    "\n",
    "print(letterToTensor('J'))\n",
    "print(lineToTensor('Augustine').size())\n",
    "    "
   ]
  },
  {
   "cell_type": "code",
   "execution_count": 5,
   "id": "1723bbc7",
   "metadata": {},
   "outputs": [],
   "source": [
    "#搭建模型\n",
    "import torch.nn as nn\n",
    "\n",
    "class RNN(nn.Module):\n",
    "    #初始化定义每一层的输入大小，输出大小\n",
    "    def __init__(self,input_size,hidden_size,output_size):\n",
    "        super(RNN,self).__init__()\n",
    "        \n",
    "        self.hidden_size = hidden_size\n",
    "        self.i2h = nn.Linear(input_size + hidden_size, hidden_size)\n",
    "        self.i2o = nn.Linear(input_size + hidden_size, output_size)\n",
    "        self.softmax = nn.LogSoftmax(dim = 1)\n",
    "    #前向传播过程\n",
    "    def forward(self,input,hidden):\n",
    "        combined = torch.cat((input,hidden),1)#将xt与上一步的h（t-1）拼接在一起dim=1；按行拼接\n",
    "        hidden = self.i2h(combined)#[xt,ht-1]*Wh 变成新的隐藏层ht = Wh[xt,ht-1]\n",
    "        output = self.i2o(combined)#[xt,ht-1]*Wo 得到输出Wo[xt,ht-1]\n",
    "        output = self.softmax(output)#通过一个softmax函数，把输出Ot变为预测值 logsoftmax(Ot)\n",
    "        return output,hidden\n",
    "    #初始化隐藏层状态\n",
    "    def initHidden(self):\n",
    "        return torch.zeros(1,self.hidden_size).to(device)\n",
    "    \n",
    "n_hidden = 128#隐藏层的向量维度为128维\n",
    "rnn = RNN(n_letters,n_hidden,n_categories)#input hidden output\n",
    "rnn = rnn.to(device)\n",
    "\n",
    "    \n"
   ]
  },
  {
   "cell_type": "code",
   "execution_count": 6,
   "id": "322569c9",
   "metadata": {
    "scrolled": true
   },
   "outputs": [
    {
     "name": "stdout",
     "output_type": "stream",
     "text": [
      "tensor([[-2.9740, -2.9118, -2.7862, -2.7790, -2.8678, -2.8890, -2.9970, -3.0000,\n",
      "         -2.9323, -2.8478, -2.8657, -2.9037, -2.9072, -2.9795, -2.7830, -2.8720,\n",
      "         -2.9151, -2.8560]], device='cuda:0', grad_fn=<LogSoftmaxBackward0>)\n"
     ]
    }
   ],
   "source": [
    "input = letterToTensor('A')\n",
    "hidden = torch.zeros(1,n_hidden).to(device)\n",
    "output,next_hidden = rnn(input,hidden)\n",
    "print(output)"
   ]
  },
  {
   "cell_type": "code",
   "execution_count": 7,
   "id": "024b5420",
   "metadata": {
    "scrolled": true
   },
   "outputs": [
    {
     "name": "stdout",
     "output_type": "stream",
     "text": [
      "tensor([[-2.9740, -2.9118, -2.7862, -2.7790, -2.8678, -2.8890, -2.9970, -3.0000,\n",
      "         -2.9323, -2.8478, -2.8657, -2.9037, -2.9072, -2.9795, -2.7830, -2.8720,\n",
      "         -2.9151, -2.8560]], device='cuda:0', grad_fn=<LogSoftmaxBackward0>)\n"
     ]
    }
   ],
   "source": [
    "input = lineToTensor('Albert')\n",
    "hidden = torch.zeros(1,n_hidden).to(device)\n",
    "output,next_hidden = rnn(input[0],hidden)\n",
    "print(output)"
   ]
  },
  {
   "cell_type": "code",
   "execution_count": 8,
   "id": "542402f9",
   "metadata": {},
   "outputs": [],
   "source": [
    "# define categoryFromOutput() 可以把yt变成对应的类别， 用Tensor.topk选出18个概率中，概率最大的下标 category_i就是yt的类别\n",
    "def categoryFromOutput(output):\n",
    "    top_n,top_i = output.topk(1)#torch.topk(input, k, dim=None, largest=True, sorted=True, out=None) -> (Tensor, LongTensor) top_n返回最大值, top_i返回最大值索引\n",
    "    category_i = top_i[0].item()\n",
    "    return  all_categories[category_i],category_i"
   ]
  },
  {
   "cell_type": "code",
   "execution_count": 9,
   "id": "73939ac8",
   "metadata": {
    "scrolled": true
   },
   "outputs": [
    {
     "name": "stdout",
     "output_type": "stream",
     "text": [
      "category=  Arabic /line=  Ghannam\n",
      "category=  Greek /line=  Kyritsis\n",
      "category=  Spanish /line=  Estevez\n",
      "category=  Spanish /line=  Cardona\n",
      "category=  French /line=  Tremblay\n",
      "category=  Dutch /line=  Dale\n",
      "category=  German /line=  Hirsch\n",
      "category=  Czech /line=  Psik\n",
      "category=  Russian /line=  Awksentiewsky\n",
      "category=  Italian /line=  Moretti\n"
     ]
    }
   ],
   "source": [
    "import random\n",
    "def randomChoice(l):#从所有数据中随机采样\n",
    "    return l[random.randint(0,len(l)-1)]#random.randint 返回0，len(l)-1 中的任意整数\n",
    "def randomTrainingExample():\n",
    "    category = randomChoice(all_categories)#在类别中随机采样\n",
    "    line = randomChoice(category_lines[category])#类别中line随机采样\n",
    "    category_tensor = torch.tensor([all_categories.index(category)],dtype=torch.long).to(device)\n",
    "    line_tensor = lineToTensor(line)\n",
    "    return category,line,category_tensor,line_tensor\n",
    "for i in range(10):\n",
    "    category,line,category_tensor,line_tensor = randomTrainingExample()\n",
    "    print('category= ',category,'/line= ',line)\n",
    "    \n",
    "\n",
    "\n"
   ]
  },
  {
   "cell_type": "code",
   "execution_count": 10,
   "id": "55fe182b",
   "metadata": {},
   "outputs": [],
   "source": [
    "#定义损失函数NLLLoss,lr 0.005\n",
    "#创建输入tensor和目标tensor\n",
    "#初始化隐藏层状态 h0\n",
    "#输入每个字母Xt\n",
    "#保存下一个字母需要的隐藏层状态Ht\n",
    "#将模型预测的输出yp与目标yt进行对比\n",
    "#梯度反向传播\n",
    "#返回输出和损失函数\n",
    "criterion = nn.NLLLoss()#官方集成的损失函数\n",
    "learning_rate = 0.005\n",
    "\n",
    "def train(category_tensor,line_tensor):\n",
    "     # 初始化隐藏层张量\n",
    "    hidden = rnn.initHidden()\n",
    "    \n",
    "    rnn.zero_grad()# 梯度初始化为0\n",
    "    # RNN循环\n",
    "    for i in range(line_tensor.size()[0]):#line_tensor.size()[0]表示维度\n",
    "        output,hidden = rnn(line_tensor[i],hidden)\n",
    "    loss = criterion(output,category_tensor)\n",
    "    loss.backward()\n",
    "    \n",
    "    #更新参数\n",
    "    for p in rnn.parameters():#Module.parameters获取网络参数\n",
    "        # 将参数的张量表示与参数的梯度进行乘法运算并乘以学习率，结果家到参数上并进行覆盖更新(下划线add_)\n",
    "        p.data.add_(p.grad.data,alpha=-learning_rate)\n",
    "        \n",
    "    return output,loss.item()\n",
    "    \n",
    "    "
   ]
  },
  {
   "cell_type": "code",
   "execution_count": 11,
   "id": "89b17b62",
   "metadata": {
    "scrolled": false
   },
   "outputs": [
    {
     "name": "stdout",
     "output_type": "stream",
     "text": [
      "5000 5%(0m9s) 2.4888 To /Chinesex(Vietnamese)\n",
      "10000 10%(0m17s) 2.6422 Ouchi /Italianx(Japanese)\n",
      "15000 15%(0m26s) 0.2515 Ashikaga /Japanese√\n",
      "20000 20%(0m35s) 1.7942 Palumbo /Portuguesex(Italian)\n",
      "25000 25%(0m44s) 1.0109 Shan /Chinese√\n",
      "30000 30%(0m53s) 2.2918 Johnston /Englishx(Scottish)\n",
      "35000 35%(1m1s) 3.2828 Munro /Portuguesex(Scottish)\n",
      "40000 40%(1m10s) 0.4913 Ozawa /Japanese√\n",
      "45000 45%(1m19s) 1.0647 Nader /Arabic√\n",
      "50000 50%(1m27s) 3.2471 Garrastazu /Japanesex(Spanish)\n",
      "55000 55%(1m36s) 0.9187 Abasolo /Spanish√\n",
      "60000 60%(1m45s) 0.6167 Meng /Chinese√\n",
      "65000 65%(1m54s) 1.2056 Ortiz /Spanish√\n",
      "70000 70%(2m2s) 2.6109 Guttridge /Greekx(English)\n",
      "75000 75%(2m11s) 0.7396 Araullo /Portuguese√\n",
      "80000 80%(2m20s) 0.4651 Kim /Korean√\n",
      "85000 85%(2m29s) 1.1911 Tahan /Arabic√\n",
      "90000 90%(2m38s) 0.2178 Mustafa /Arabic√\n",
      "95000 95%(2m47s) 1.8043 Simoes /Arabicx(Portuguese)\n",
      "100000 100%(2m56s) 1.5762 Sitz /German√\n"
     ]
    }
   ],
   "source": [
    "import time\n",
    "import math\n",
    "n_iters = 100000#训练迭代次数\n",
    "print_every = 5000#结果打印时间间隔\n",
    "plot_every = 1000#绘制损失曲线上的制图间隔\n",
    "current_loss = 0\n",
    "all_losses = []\n",
    "\n",
    "def timeSince(since):#计算训练时间\n",
    "    now = time.time()\n",
    "    s = now - since\n",
    "    return '%dm%ds'%(s//60,s%60)#//整数除法\n",
    "start = time.time()\n",
    "\n",
    "for iter in range(1,n_iters + 1):\n",
    "    category,line,category_tensor,line_tensor = randomTrainingExample()#  采样 ，生成张量\n",
    "    output,loss = train(category_tensor,line_tensor)\n",
    "    current_loss += loss\n",
    "    \n",
    "    if iter%print_every == 0:\n",
    "        guess,guess_i = categoryFromOutput(output)\n",
    "        correct ='√'if guess ==category else 'x(%s)'%category\n",
    "        print('%d %d%%(%s) %.4f %s /%s%s'%\n",
    "             (iter,iter/n_iters*100,timeSince(start),loss,line,guess,correct))\n",
    "    if iter%plot_every ==0:\n",
    "        all_losses.append(current_loss/plot_every)\n",
    "        current_loss = 0\n",
    "        \n",
    "    \n",
    "    "
   ]
  },
  {
   "cell_type": "code",
   "execution_count": 12,
   "id": "5ccf4ff4",
   "metadata": {},
   "outputs": [
    {
     "data": {
      "text/plain": [
       "[<matplotlib.lines.Line2D at 0x1bd834e9940>]"
      ]
     },
     "execution_count": 12,
     "metadata": {},
     "output_type": "execute_result"
    },
    {
     "data": {
      "image/png": "[encoded data removed]",
      "text/plain": [
       "<Figure size 432x288 with 1 Axes>"
      ]
     },
     "metadata": {
      "needs_background": "light"
     },
     "output_type": "display_data"
    }
   ],
   "source": [
    "import matplotlib.pyplot as plt\n",
    "import matplotlib.ticker as ticker\n",
    "plt.figure()\n",
    "plt.plot(all_losses)"
   ]
  },
  {
   "cell_type": "code",
   "execution_count": 13,
   "id": "b565c261",
   "metadata": {},
   "outputs": [
    {
     "name": "stdout",
     "output_type": "stream",
     "text": [
      "\n",
      ">Doveshy\n",
      "(-1.34)French\n",
      "(-1.93)Czech\n",
      "(-2.47)English\n",
      "\n",
      ">Jackson\n",
      "(-0.23)Scottish\n",
      "(-2.13)English\n",
      "(-3.39)Russian\n",
      "\n",
      ">Satoshi\n",
      "(-0.98)Japanese\n",
      "(-1.22)Italian\n",
      "(-2.44)Arabic\n"
     ]
    }
   ],
   "source": [
    "def evaluate(line_tensor):\n",
    "    hidden = rnn.initHidden()\n",
    "    for i in range(line_tensor.size()[0]):\n",
    "        output,hidden = rnn(line_tensor[i],hidden)\n",
    "    return output\n",
    "def predict(input_line,n_predictions = 3):\n",
    "    print('\\n>%s'%input_line)\n",
    "    with torch.no_grad():\n",
    "        output = evaluate(lineToTensor(input_line))\n",
    "        topv,topi = output.topk(n_predictions,1,True)\n",
    "        predictions = []\n",
    "        \n",
    "        for i in range(n_predictions):\n",
    "            value = topv[0][i].item()\n",
    "            category_index = topi[0][i].item()\n",
    "            print('(%.2f)%s'%(value,all_categories[category_index]))\n",
    "            #predictions.append([value,all_categories[category_index]])\n",
    "predict(\"Doveshy\")\n",
    "predict('Jackson')\n",
    "predict('Satoshi')"
   ]
  },
  {
   "cell_type": "code",
   "execution_count": 15,
   "id": "c863b64d",
   "metadata": {},
   "outputs": [
    {
     "name": "stderr",
     "output_type": "stream",
     "text": [
      "C:\\Users\\MNeilDiane\\Anaconda3\\envs\\Augustine\\lib\\site-packages\\ipykernel_launcher.py:17: UserWarning: FixedFormatter should only be used together with FixedLocator\n",
      "C:\\Users\\MNeilDiane\\Anaconda3\\envs\\Augustine\\lib\\site-packages\\ipykernel_launcher.py:18: UserWarning: FixedFormatter should only be used together with FixedLocator\n"
     ]
    },
    {
     "data": {
      "image/png": "[encoded data removed]",
      "text/plain": [
       "<Figure size 432x288 with 2 Axes>"
      ]
     },
     "metadata": {
      "needs_background": "light"
     },
     "output_type": "display_data"
    }
   ],
   "source": [
    "confusion = torch.zeros(n_categories,n_categories)\n",
    "n_confusion = 10000\n",
    "for i in range(n_confusion):\n",
    "    category, line, category_tensor,line_tensor = randomTrainingExample()\n",
    "    output = evaluate(line_tensor)\n",
    "    guess,guess_i = categoryFromOutput(output)\n",
    "    category_i = all_categories.index(category)\n",
    "    confusion[category_i][guess_i] += 1\n",
    "\n",
    "for i in range(n_categories):\n",
    "    confusion[i] = confusion[i]/confusion[i].sum()\n",
    "    \n",
    "fig = plt.figure()\n",
    "ax = fig.add_subplot(111)\n",
    "cax = ax.matshow(confusion.numpy())\n",
    "fig.colorbar(cax)\n",
    "ax.set_xticklabels(['']+all_categories,rotation=90)\n",
    "ax.set_yticklabels(['']+all_categories)\n",
    "\n",
    "ax.xaxis.set_major_locator(ticker.MultipleLocator(1))\n",
    "ax.yaxis.set_major_locator(ticker.MultipleLocator(1))\n",
    "\n",
    "plt.show()\n"
   ]
  }
 ],
 "metadata": {
  "kernelspec": {
   "display_name": "Python [conda env:Augustine] *",
   "language": "python",
   "name": "conda-env-Augustine-py"
  },
  "language_info": {
   "codemirror_mode": {
    "name": "ipython",
    "version": 3
   },
   "file_extension": ".py",
   "mimetype": "text/x-python",
   "name": "python",
   "nbconvert_exporter": "python",
   "pygments_lexer": "ipython3",
   "version": "3.6.13"
  }
 },
 "nbformat": 4,
 "nbformat_minor": 5
}
